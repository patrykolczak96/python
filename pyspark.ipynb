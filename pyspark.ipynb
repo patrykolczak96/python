{
  "nbformat": 4,
  "nbformat_minor": 0,
  "metadata": {
    "colab": {
      "name": "pyspark.ipynb",
      "provenance": [],
      "collapsed_sections": []
    },
    "kernelspec": {
      "name": "python3",
      "display_name": "Python 3"
    },
    "language_info": {
      "name": "python"
    }
  },
  "cells": [
    {
      "cell_type": "code",
      "metadata": {
        "colab": {
          "base_uri": "https://localhost:8080/"
        },
        "id": "mBIigGcHP5Yu",
        "outputId": "2e6e43f6-4e9f-4d8c-9f41-088c8555fbb8"
      },
      "source": [
        "!apt-get install openjdk-8-jdk-headless -qq > /dev/null\n",
        "!wget -q http://www.apache.org/dist/spark/spark-3.0.2/spark-3.0.2-bin-hadoop2.7.tgz\n",
        "!tar xf spark-3.0.2-bin-hadoop2.7.tgz\n",
        "!pip install -q findspark==1.3.0\n",
        "!pip install -q pyspark==3.0.2\n",
        "import os\n",
        "os.environ[\"JAVA_HOME\"] = \"/usr/lib/jvm/java-8-openjdk-amd64\"\n",
        "os.environ[\"SPARK_HOME\"] = \"/content/spark-3.0.2-bin-hadoop2.7\"\n",
        "import findspark\n",
        "import pyspark\n",
        "from pyspark.sql import SparkSession\n",
        "from pyspark import SparkContext\n",
        "\n",
        "findspark.init(\"spark-3.0.2-bin-hadoop2.7\")\n",
        "sc = pyspark.SparkContext('local[*]')\n",
        "spark = SparkSession.builder.appName('abc').getOrCreate()"
      ],
      "execution_count": null,
      "outputs": [
        {
          "output_type": "stream",
          "text": [
            "\u001b[K     |████████████████████████████████| 204.8MB 69kB/s \n",
            "\u001b[K     |████████████████████████████████| 204kB 19.6MB/s \n",
            "\u001b[?25h  Building wheel for pyspark (setup.py) ... \u001b[?25l\u001b[?25hdone\n"
          ],
          "name": "stdout"
        }
      ]
    },
    {
      "cell_type": "markdown",
      "metadata": {
        "id": "JVXpAbKwTV0m"
      },
      "source": [
        "# **RDD API**"
      ]
    },
    {
      "cell_type": "markdown",
      "metadata": {
        "id": "x89dFD37b9s5"
      },
      "source": [
        "**Plik**: 500_richest.csv\n",
        "\n",
        "Wyświetl top 5 branż (Industry) w Stanach Zjednoczonych pod względem zsumowanego majątku najbogatszych ludzi pochodzących z tych branż (pogrupuj branże po Total Net Worth)\n",
        "\n",
        "Podpowiedź: (B) Bilion to 1000000000\n",
        "\n",
        "**Przykładowy wynik**: \n",
        "[('Diversified', 1406660000000),\n",
        " ('Finance', 1306660000000),\n",
        " ('Energy', 906660000000),\n",
        " ('Consumer', 506660000000),\n",
        " ('Retail', 206660000000)]"
      ]
    },
    {
      "cell_type": "code",
      "metadata": {
        "id": "X3LLzfi9Qywz"
      },
      "source": [
        "richest = sc.textFile('500_richest.csv')\n"
      ],
      "execution_count": null,
      "outputs": []
    },
    {
      "cell_type": "code",
      "metadata": {
        "colab": {
          "base_uri": "https://localhost:8080/"
        },
        "id": "zcdgxAUb1GCL",
        "outputId": "f56d2bc3-0bfb-40c4-836d-9407429e3897"
      },
      "source": [
        "richest.take(5)"
      ],
      "execution_count": null,
      "outputs": [
        {
          "output_type": "execute_result",
          "data": {
            "text/plain": [
              "['Rank;Name;Total Net Worth;$ Last Change;$ YTD Change;Country;Industry',\n",
              " '1;Jeff Bezos;$188B;+$1.68B;-$2.31B\\xa0;United States;Technology',\n",
              " '2;Elon Musk;$170B;-$2.89B;+$773M\\xa0;United States;Technology',\n",
              " '3;Bernard Arnault;$155B;+$892M;+$40.9B\\xa0;France;Consumer',\n",
              " '4;Bill Gates;$144B;-$1.32B;+$12.2B\\xa0;United States;Technology']"
            ]
          },
          "metadata": {
            "tags": []
          },
          "execution_count": 8
        }
      ]
    },
    {
      "cell_type": "code",
      "metadata": {
        "colab": {
          "base_uri": "https://localhost:8080/"
        },
        "id": "0RgvNqsj1hNN",
        "outputId": "9c7c493d-a788-4f86-ce31-3c057f50e42d"
      },
      "source": [
        "rows = richest.map(lambda x: x.split(';'))\n",
        "rows.take(5)"
      ],
      "execution_count": null,
      "outputs": [
        {
          "output_type": "execute_result",
          "data": {
            "text/plain": [
              "[['Rank',\n",
              "  'Name',\n",
              "  'Total Net Worth',\n",
              "  '$ Last Change',\n",
              "  '$ YTD Change',\n",
              "  'Country',\n",
              "  'Industry'],\n",
              " ['1',\n",
              "  'Jeff Bezos',\n",
              "  '$188B',\n",
              "  '+$1.68B',\n",
              "  '-$2.31B\\xa0',\n",
              "  'United States',\n",
              "  'Technology'],\n",
              " ['2',\n",
              "  'Elon Musk',\n",
              "  '$170B',\n",
              "  '-$2.89B',\n",
              "  '+$773M\\xa0',\n",
              "  'United States',\n",
              "  'Technology'],\n",
              " ['3',\n",
              "  'Bernard Arnault',\n",
              "  '$155B',\n",
              "  '+$892M',\n",
              "  '+$40.9B\\xa0',\n",
              "  'France',\n",
              "  'Consumer'],\n",
              " ['4',\n",
              "  'Bill Gates',\n",
              "  '$144B',\n",
              "  '-$1.32B',\n",
              "  '+$12.2B\\xa0',\n",
              "  'United States',\n",
              "  'Technology']]"
            ]
          },
          "metadata": {
            "tags": []
          },
          "execution_count": 10
        }
      ]
    },
    {
      "cell_type": "code",
      "metadata": {
        "id": "JrlKQhjl5J2n"
      },
      "source": [
        "def bToNums(n):\n",
        "  if n[3] == \"B\":\n",
        "    return float(n[0:3])*1000000000\n",
        "  if n[4] == \"B\":\n",
        "    return float(n[0:4])*1000000000\n",
        "  elif n[5] == \"B\":\n",
        "    return float(n[0:5])*1000000000"
      ],
      "execution_count": null,
      "outputs": []
    },
    {
      "cell_type": "code",
      "metadata": {
        "colab": {
          "base_uri": "https://localhost:8080/"
        },
        "id": "nApXf_852R1-",
        "outputId": "05eb671b-59fd-41a1-fcfc-c13d9083880b"
      },
      "source": [
        "(rows\n",
        " .filter(lambda x: 'Name' not in x)\n",
        " .filter(lambda x: 'United States' in x)\n",
        " .map(lambda x: (x[-1], bToNums(x[2][1:6]) ))\n",
        " .reduceByKey(lambda x, y: x + y)\n",
        " .sortBy(lambda x: x[1],ascending = False )\n",
        " #.reduceByKey(lambda x, y: x + y)\n",
        " ).take(5)"
      ],
      "execution_count": null,
      "outputs": [
        {
          "output_type": "execute_result",
          "data": {
            "text/plain": [
              "[('Technology', 1406660000000.0),\n",
              " ('Finance', 333370000000.0),\n",
              " ('Retail', 270920000000.0),\n",
              " ('Diversified', 185700000000.0),\n",
              " ('Consumer', 170300000000.0)]"
            ]
          },
          "metadata": {
            "tags": []
          },
          "execution_count": 137
        }
      ]
    },
    {
      "cell_type": "code",
      "metadata": {
        "id": "JniicwYt5i2U"
      },
      "source": [
        "#bToNums('7.17B')\n",
        "#bToNums('64.3B')\n",
        "#bToNums('101B')\n",
        "?rows.sortBy"
      ],
      "execution_count": null,
      "outputs": []
    },
    {
      "cell_type": "markdown",
      "metadata": {
        "id": "jKBkAmGsdTd1"
      },
      "source": [
        "# **DataFrames**"
      ]
    },
    {
      "cell_type": "markdown",
      "metadata": {
        "id": "u9doOWM-eC_Z"
      },
      "source": [
        "**Plik**: 500_richest.csv\n",
        "\n",
        "Rozpatrzmy następujące kraje: Rosja, Szwecja, Niemcy (kolumna Country: Russia, Sweden, Germany). Jeżeli uszeregujemy te zbiory pod względem Total Net Worth, to ile wynosiła największa różnica między dwoma sąsiednimi wynikami najbogatszych ludzi w każdym z tych krajów? (największa różnica w rankingu między sąsiadami dla każdego kraju).\n"
      ]
    },
    {
      "cell_type": "code",
      "metadata": {
        "id": "DP4hAVhsiHrg"
      },
      "source": [
        "df = spark.read.csv('500_richest.csv', header=True, sep = \";\")"
      ],
      "execution_count": null,
      "outputs": []
    },
    {
      "cell_type": "code",
      "metadata": {
        "id": "GVT3J1Ti9aZ1"
      },
      "source": [
        "import pyspark.sql.functions as f\n",
        "from pyspark.sql.types import *"
      ],
      "execution_count": null,
      "outputs": []
    },
    {
      "cell_type": "code",
      "metadata": {
        "id": "OT6rlQxGVcvS"
      },
      "source": [
        "def bToNums2(n):\n",
        "  if n[3] == \"B\":\n",
        "    return '3' #n[1:3]\n",
        "  if n[4] == \"B\":\n",
        "    return '4'#n[1:4]\n",
        "  elif n[5] == \"B\":\n",
        "    return float(n[1:5]) #n[1:5]"
      ],
      "execution_count": null,
      "outputs": []
    },
    {
      "cell_type": "code",
      "metadata": {
        "id": "W2CukTll97mW"
      },
      "source": [
        "udf_bToNums = f.udf(bToNums2, StringType()) # potrzebne do udf"
      ],
      "execution_count": null,
      "outputs": []
    },
    {
      "cell_type": "code",
      "metadata": {
        "colab": {
          "base_uri": "https://localhost:8080/"
        },
        "id": "_vGvHWMFWYXX",
        "outputId": "4c432303-f9fa-4f3b-febf-0f820ebe7c1a"
      },
      "source": [
        "df.show(5)"
      ],
      "execution_count": null,
      "outputs": [
        {
          "output_type": "stream",
          "text": [
            "+----+---------------+---------------+-------------+------------+-------------+----------+\n",
            "|Rank|           Name|Total Net Worth|$ Last Change|$ YTD Change|      Country|  Industry|\n",
            "+----+---------------+---------------+-------------+------------+-------------+----------+\n",
            "|   1|     Jeff Bezos|          $188B|      +$1.68B|    -$2.31B |United States|Technology|\n",
            "|   2|      Elon Musk|          $170B|      -$2.89B|     +$773M |United States|Technology|\n",
            "|   3|Bernard Arnault|          $155B|       +$892M|    +$40.9B |       France|  Consumer|\n",
            "|   4|     Bill Gates|          $144B|      -$1.32B|    +$12.2B |United States|Technology|\n",
            "|   5|Mark Zuckerberg|          $114B|       +$203M|    +$10.9B |United States|Technology|\n",
            "+----+---------------+---------------+-------------+------------+-------------+----------+\n",
            "only showing top 5 rows\n",
            "\n"
          ],
          "name": "stdout"
        }
      ]
    },
    {
      "cell_type": "code",
      "metadata": {
        "id": "xL9ifgaxUWSY"
      },
      "source": [
        "df = (df\n",
        " .select(f.col('Name'), f.col('Total Net Worth'), f.col('Country'))\n",
        " .withColumn('Total Net Worth', udf_bToNums(f.col('Total Net Worth')))\n",
        " )"
      ],
      "execution_count": null,
      "outputs": []
    },
    {
      "cell_type": "code",
      "metadata": {
        "id": "Lk04bSeUeyQ-"
      },
      "source": [
        "import sys\n",
        "from pyspark.sql.window import Window\n",
        "\n",
        "windowSpec = (Window\n",
        "              .partitionBy(f.col('country'))\n",
        "              .orderBy(f.col('total net worth').desc())\n",
        "              )\n",
        "\n",
        "windowSpec2 = (Window\n",
        "               .partitionBy(f.col('country'))\n",
        "               .orderBy(f.col('difference').desc())\n",
        "               )"
      ],
      "execution_count": null,
      "outputs": []
    },
    {
      "cell_type": "code",
      "metadata": {
        "id": "K7eaQHQ1olux"
      },
      "source": [
        "df_new_df = (\n",
        "    df_new\n",
        "    .withColumn('Total Net Worth', f.col('Total Net Worth').cast(FloatType()))\n",
        "    .withColumn('row_number', f.row_number().over(windowSpec))\n",
        "    .withColumn('lead_tnw', f.lead('Total Net Worth', 1).over(windowSpec))\n",
        "    .withColumn('difference', f.col('Total Net Worth') - f.col('lead_tnw')  )\n",
        "    .withColumn('row_number_DIFF', f.row_number().over(windowSpec2) )\n",
        "    .select( f.col('country'), f.col('difference'), f.col('row_number_DIFF'))\n",
        "    .filter (f.col('row_number_DIFF') == 1)\n",
        ")"
      ],
      "execution_count": null,
      "outputs": []
    },
    {
      "cell_type": "code",
      "metadata": {
        "id": "0-6ZX5varIn6"
      },
      "source": [
        "df_new_df.createOrReplaceTempView('richest_new_df')"
      ],
      "execution_count": null,
      "outputs": []
    },
    {
      "cell_type": "code",
      "metadata": {
        "colab": {
          "base_uri": "https://localhost:8080/"
        },
        "id": "he4ViR5NutLd",
        "outputId": "4146fa1b-7d88-452f-b61f-9535db2cdd2b"
      },
      "source": [
        "sqlDF_df = spark.sql(\"\"\" \n",
        "                        select country, round(difference, 2) AS `MAX DIFF`\n",
        "                        from richest_new_df\n",
        "                        where country in ('Russia', 'Germany', 'Sweden')\n",
        "                  \"\"\")\n",
        "sqlDF_df.show()"
      ],
      "execution_count": null,
      "outputs": [
        {
          "output_type": "stream",
          "text": [
            "+-------+--------+\n",
            "|country|MAX DIFF|\n",
            "+-------+--------+\n",
            "| Russia|     7.3|\n",
            "| Sweden|     8.1|\n",
            "|Germany|     6.9|\n",
            "+-------+--------+\n",
            "\n"
          ],
          "name": "stdout"
        }
      ]
    },
    {
      "cell_type": "markdown",
      "metadata": {
        "id": "4eWgICy7uITm"
      },
      "source": [
        "**Plik**: all_weekly_excess_deaths.csv\n",
        "\n",
        "Wyświetl top 5 krajów pod względem liczby zgonów nie związanych z covid (non_covid_deaths) w roku 2020. Do każdej krotki dodaj na końcu napis \"NON COVID DEATHS IN 2020\" \n",
        "\n",
        "Podpowiedź: Turcja źle raportuje non_covid_deaths. Dane niekoniecznie są podane w formacie całkowitoliczbowym. Usuń Trucję z prowadzonej analizy.\n",
        "\n",
        "\n",
        "**Przykładowy wynik**: \n",
        "\n",
        "[('Britain', 9964329, 'NON COVID DEATHS IN 2020'),\n",
        "\n",
        " ('Germany', 2505607, 'NON COVID DEATHS IN 2020'),\n",
        "\n",
        " ('France', 1468112, 'NON COVID DEATHS IN 2020'),\n",
        "\n",
        " ('Poland', 1309358, 'NON COVID DEATHS IN 2020'),\n",
        "\n",
        " ('Mexico', 1065198, 'NON COVID DEATHS IN 2020')]"
      ]
    },
    {
      "cell_type": "code",
      "metadata": {
        "id": "9yPf_i4PuJQo"
      },
      "source": [
        "deaths = sc.textFile('all_weekly_excess_deaths.xls')"
      ],
      "execution_count": null,
      "outputs": []
    },
    {
      "cell_type": "code",
      "metadata": {
        "colab": {
          "base_uri": "https://localhost:8080/"
        },
        "id": "KYTDdYwDuN3A",
        "outputId": "f94198cd-5e84-4ec9-c376-d66a103317c9"
      },
      "source": [
        "rows = deaths.map(lambda x : x.split(';'))\n",
        "rows.take(5)\n",
        "\n",
        "(rows\n",
        " .filter(lambda x: 'Turkey' not in x)\n",
        " .filter(lambda x: '2020' in x)\n",
        " .map(lambda x: (x[0], int(x[-4]) ))\n",
        " .reduceByKey(lambda x, y: x + y)\n",
        " .sortBy(lambda x: x[1],ascending = False)\n",
        " .map(lambda x: (x[0], x[1], 'NON COVID DEATHS IN 2020' ) )\n",
        ").take(5)"
      ],
      "execution_count": null,
      "outputs": [
        {
          "output_type": "execute_result",
          "data": {
            "text/plain": [
              "[('United States', 6251011, 'NON COVID DEATHS IN 2020'),\n",
              " ('Britain', 1747182, 'NON COVID DEATHS IN 2020'),\n",
              " ('Italy', 1323156, 'NON COVID DEATHS IN 2020'),\n",
              " ('France', 1200143, 'NON COVID DEATHS IN 2020'),\n",
              " ('Germany', 966878, 'NON COVID DEATHS IN 2020')]"
            ]
          },
          "metadata": {
            "tags": []
          },
          "execution_count": 4
        }
      ]
    }
  ]
}